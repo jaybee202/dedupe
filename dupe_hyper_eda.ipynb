{
 "cells": [
  {
   "cell_type": "code",
   "execution_count": 3,
   "id": "ee394072-d0cb-4482-b1ed-1134ee553b19",
   "metadata": {},
   "outputs": [],
   "source": [
    "import pantab as pt"
   ]
  },
  {
   "cell_type": "code",
   "execution_count": 8,
   "id": "39b949f3-2bf9-488c-924c-ec944688b6d2",
   "metadata": {},
   "outputs": [],
   "source": [
    "from tableauhyperapi import HyperProcess, Connection, TableDefinition, SqlType, Telemetry, Inserter, CreateMode"
   ]
  },
  {
   "cell_type": "code",
   "execution_count": 9,
   "id": "9ec5d234-28a9-454d-b167-bb058250dfc7",
   "metadata": {},
   "outputs": [],
   "source": [
    "# df = pt.frame_from_hyper('Sample - Superstore.hyper', table = 'Orders')"
   ]
  },
  {
   "cell_type": "code",
   "execution_count": 54,
   "id": "58db9417-5a9c-446d-ab06-e95414b785b9",
   "metadata": {},
   "outputs": [],
   "source": [
    "with HyperProcess(telemetry=Telemetry.DO_NOT_SEND_USAGE_DATA_TO_TABLEAU) as hyper:\n",
    "    with Connection(hyper.endpoint, 'Sample - Superstore.hyper', CreateMode.NONE) as connection:\n",
    "        catalog = connection.catalog\n",
    "        schema = catalog.get_schema_names()\n",
    "        tables = catalog.get_table_names(schema = schema[0])"
   ]
  },
  {
   "cell_type": "code",
   "execution_count": 55,
   "id": "f59ced18-b06d-4a7b-80dc-f4d6bcc9791d",
   "metadata": {},
   "outputs": [
    {
     "data": {
      "text/plain": [
       "[]"
      ]
     },
     "execution_count": 55,
     "metadata": {},
     "output_type": "execute_result"
    }
   ],
   "source": [
    "tables"
   ]
  },
  {
   "cell_type": "code",
   "execution_count": null,
   "id": "e56e49b3-5466-43ec-8ef1-fc30a2fdd705",
   "metadata": {},
   "outputs": [],
   "source": []
  }
 ],
 "metadata": {
  "kernelspec": {
   "display_name": "Python 3 (ipykernel)",
   "language": "python",
   "name": "python3"
  },
  "language_info": {
   "codemirror_mode": {
    "name": "ipython",
    "version": 3
   },
   "file_extension": ".py",
   "mimetype": "text/x-python",
   "name": "python",
   "nbconvert_exporter": "python",
   "pygments_lexer": "ipython3",
   "version": "3.11.7"
  }
 },
 "nbformat": 4,
 "nbformat_minor": 5
}
