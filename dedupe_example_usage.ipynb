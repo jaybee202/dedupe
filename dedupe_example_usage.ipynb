{
 "cells": [
  {
   "cell_type": "markdown",
   "id": "62a8a451-610b-4b97-b8fa-21a8f556dad9",
   "metadata": {},
   "source": [
    "## Import required packages"
   ]
  },
  {
   "cell_type": "code",
   "execution_count": 1,
   "id": "5d0fbf62-77b3-4efc-b28b-f0700b59ae14",
   "metadata": {},
   "outputs": [],
   "source": [
    "import polars as pl\n",
    "import numpy as np\n",
    "from dedupe import Dupe"
   ]
  },
  {
   "cell_type": "markdown",
   "id": "22282bb8-f91f-4fe6-a0c2-9328d4c392a3",
   "metadata": {},
   "source": [
    "## Example usage with dataframe with duplicated data"
   ]
  },
  {
   "cell_type": "code",
   "execution_count": 2,
   "id": "e35522d3-82d5-41fd-9888-ea7010a32c23",
   "metadata": {},
   "outputs": [],
   "source": [
    "## Import dataframes for example usage\n",
    "## dfd stands for duplicated dataframe, there are 5 added to the data\n",
    "## Import data and format column names to be lower and use _ instead of space\n",
    "dfd = pl.read_csv('superstore_with_5_dupes.csv')\n",
    "\n",
    "new_cols = {}\n",
    "for c in dfd.columns:\n",
    "    new_cols[c] = c.lower().replace(' ', '_')\n",
    "\n",
    "dfd = dfd.rename(new_cols)"
   ]
  },
  {
   "cell_type": "code",
   "execution_count": 3,
   "id": "f03c8139-33f9-4912-8d20-93a119431b78",
   "metadata": {},
   "outputs": [
    {
     "data": {
      "text/html": [
       "<div><style>\n",
       ".dataframe > thead > tr,\n",
       ".dataframe > tbody > tr {\n",
       "  text-align: right;\n",
       "  white-space: pre-wrap;\n",
       "}\n",
       "</style>\n",
       "<small>shape: (2, 21)</small><table border=\"1\" class=\"dataframe\"><thead><tr><th>row_id</th><th>order_id</th><th>order_date</th><th>ship_date</th><th>ship_mode</th><th>customer_id</th><th>customer_name</th><th>segment</th><th>country</th><th>city</th><th>state</th><th>postal_code</th><th>region</th><th>product_id</th><th>category</th><th>sub-category</th><th>product_name</th><th>sales</th><th>quantity</th><th>discount</th><th>profit</th></tr><tr><td>i64</td><td>str</td><td>str</td><td>str</td><td>str</td><td>str</td><td>str</td><td>str</td><td>str</td><td>str</td><td>str</td><td>i64</td><td>str</td><td>str</td><td>str</td><td>str</td><td>str</td><td>f64</td><td>i64</td><td>f64</td><td>f64</td></tr></thead><tbody><tr><td>1</td><td>&quot;CA-2016-152156…</td><td>&quot;2016-11-08&quot;</td><td>&quot;2016-11-11&quot;</td><td>&quot;Second Class&quot;</td><td>&quot;CG-12520&quot;</td><td>&quot;Claire Gute&quot;</td><td>&quot;Consumer&quot;</td><td>&quot;United States&quot;</td><td>&quot;Henderson&quot;</td><td>&quot;Kentucky&quot;</td><td>42420</td><td>&quot;South&quot;</td><td>&quot;FUR-BO-1000179…</td><td>&quot;Furniture&quot;</td><td>&quot;Bookcases&quot;</td><td>&quot;Bush Somerset …</td><td>261.96</td><td>2</td><td>0.0</td><td>41.9136</td></tr><tr><td>2</td><td>&quot;CA-2016-152156…</td><td>&quot;2016-11-08&quot;</td><td>&quot;2016-11-11&quot;</td><td>&quot;Second Class&quot;</td><td>&quot;CG-12520&quot;</td><td>&quot;Claire Gute&quot;</td><td>&quot;Consumer&quot;</td><td>&quot;United States&quot;</td><td>&quot;Henderson&quot;</td><td>&quot;Kentucky&quot;</td><td>42420</td><td>&quot;South&quot;</td><td>&quot;FUR-CH-1000045…</td><td>&quot;Furniture&quot;</td><td>&quot;Chairs&quot;</td><td>&quot;Hon Deluxe Fab…</td><td>731.94</td><td>3</td><td>0.0</td><td>219.582</td></tr></tbody></table></div>"
      ],
      "text/plain": [
       "shape: (2, 21)\n",
       "┌────────┬────────────────┬────────────┬────────────┬───┬────────┬──────────┬──────────┬─────────┐\n",
       "│ row_id ┆ order_id       ┆ order_date ┆ ship_date  ┆ … ┆ sales  ┆ quantity ┆ discount ┆ profit  │\n",
       "│ ---    ┆ ---            ┆ ---        ┆ ---        ┆   ┆ ---    ┆ ---      ┆ ---      ┆ ---     │\n",
       "│ i64    ┆ str            ┆ str        ┆ str        ┆   ┆ f64    ┆ i64      ┆ f64      ┆ f64     │\n",
       "╞════════╪════════════════╪════════════╪════════════╪═══╪════════╪══════════╪══════════╪═════════╡\n",
       "│ 1      ┆ CA-2016-152156 ┆ 2016-11-08 ┆ 2016-11-11 ┆ … ┆ 261.96 ┆ 2        ┆ 0.0      ┆ 41.9136 │\n",
       "│ 2      ┆ CA-2016-152156 ┆ 2016-11-08 ┆ 2016-11-11 ┆ … ┆ 731.94 ┆ 3        ┆ 0.0      ┆ 219.582 │\n",
       "└────────┴────────────────┴────────────┴────────────┴───┴────────┴──────────┴──────────┴─────────┘"
      ]
     },
     "execution_count": 3,
     "metadata": {},
     "output_type": "execute_result"
    }
   ],
   "source": [
    "dfd.head(2)"
   ]
  },
  {
   "cell_type": "code",
   "execution_count": 4,
   "id": "96ab986a-1f7d-48fb-9311-c14384fc5032",
   "metadata": {},
   "outputs": [
    {
     "name": "stdout",
     "output_type": "stream",
     "text": [
      "No key is currently assigned\n",
      "Your data includes 9999 rows and 21 columns\n"
     ]
    }
   ],
   "source": [
    "## Create class object\n",
    "dup = Dupe(dfd)\n",
    "\n",
    "## Get info\n",
    "dup.get_info()"
   ]
  },
  {
   "cell_type": "code",
   "execution_count": 5,
   "id": "af3904d9-ab24-4c89-9d82-7e44c42640fc",
   "metadata": {},
   "outputs": [
    {
     "data": {
      "text/html": [
       "<div><style>\n",
       ".dataframe > thead > tr,\n",
       ".dataframe > tbody > tr {\n",
       "  text-align: right;\n",
       "  white-space: pre-wrap;\n",
       "}\n",
       "</style>\n",
       "<small>shape: (3, 21)</small><table border=\"1\" class=\"dataframe\"><thead><tr><th>row_id</th><th>order_id</th><th>order_date</th><th>ship_date</th><th>ship_mode</th><th>customer_id</th><th>customer_name</th><th>segment</th><th>country</th><th>city</th><th>state</th><th>postal_code</th><th>region</th><th>product_id</th><th>category</th><th>sub-category</th><th>product_name</th><th>sales</th><th>quantity</th><th>discount</th><th>profit</th></tr><tr><td>i64</td><td>str</td><td>str</td><td>str</td><td>str</td><td>str</td><td>str</td><td>str</td><td>str</td><td>str</td><td>str</td><td>i64</td><td>str</td><td>str</td><td>str</td><td>str</td><td>str</td><td>f64</td><td>i64</td><td>f64</td><td>f64</td></tr></thead><tbody><tr><td>1</td><td>&quot;CA-2016-152156…</td><td>&quot;2016-11-08&quot;</td><td>&quot;2016-11-11&quot;</td><td>&quot;Second Class&quot;</td><td>&quot;CG-12520&quot;</td><td>&quot;Claire Gute&quot;</td><td>&quot;Consumer&quot;</td><td>&quot;United States&quot;</td><td>&quot;Henderson&quot;</td><td>&quot;Kentucky&quot;</td><td>42420</td><td>&quot;South&quot;</td><td>&quot;FUR-BO-1000179…</td><td>&quot;Furniture&quot;</td><td>&quot;Bookcases&quot;</td><td>&quot;Bush Somerset …</td><td>261.96</td><td>2</td><td>0.0</td><td>41.9136</td></tr><tr><td>2</td><td>&quot;CA-2016-152156…</td><td>&quot;2016-11-08&quot;</td><td>&quot;2016-11-11&quot;</td><td>&quot;Second Class&quot;</td><td>&quot;CG-12520&quot;</td><td>&quot;Claire Gute&quot;</td><td>&quot;Consumer&quot;</td><td>&quot;United States&quot;</td><td>&quot;Henderson&quot;</td><td>&quot;Kentucky&quot;</td><td>42420</td><td>&quot;South&quot;</td><td>&quot;FUR-CH-1000045…</td><td>&quot;Furniture&quot;</td><td>&quot;Chairs&quot;</td><td>&quot;Hon Deluxe Fab…</td><td>731.94</td><td>3</td><td>0.0</td><td>219.582</td></tr><tr><td>3</td><td>&quot;CA-2016-138688…</td><td>&quot;2016-06-12&quot;</td><td>&quot;2016-06-16&quot;</td><td>&quot;Second Class&quot;</td><td>&quot;DV-13045&quot;</td><td>&quot;Darrin Van Huf…</td><td>&quot;Corporate&quot;</td><td>&quot;United States&quot;</td><td>&quot;Los Angeles&quot;</td><td>&quot;California&quot;</td><td>90036</td><td>&quot;West&quot;</td><td>&quot;OFF-LA-1000024…</td><td>&quot;Office Supplie…</td><td>&quot;Labels&quot;</td><td>&quot;Self-Adhesive …</td><td>14.62</td><td>2</td><td>0.0</td><td>6.8714</td></tr></tbody></table></div>"
      ],
      "text/plain": [
       "shape: (3, 21)\n",
       "┌────────┬────────────────┬────────────┬────────────┬───┬────────┬──────────┬──────────┬─────────┐\n",
       "│ row_id ┆ order_id       ┆ order_date ┆ ship_date  ┆ … ┆ sales  ┆ quantity ┆ discount ┆ profit  │\n",
       "│ ---    ┆ ---            ┆ ---        ┆ ---        ┆   ┆ ---    ┆ ---      ┆ ---      ┆ ---     │\n",
       "│ i64    ┆ str            ┆ str        ┆ str        ┆   ┆ f64    ┆ i64      ┆ f64      ┆ f64     │\n",
       "╞════════╪════════════════╪════════════╪════════════╪═══╪════════╪══════════╪══════════╪═════════╡\n",
       "│ 1      ┆ CA-2016-152156 ┆ 2016-11-08 ┆ 2016-11-11 ┆ … ┆ 261.96 ┆ 2        ┆ 0.0      ┆ 41.9136 │\n",
       "│ 2      ┆ CA-2016-152156 ┆ 2016-11-08 ┆ 2016-11-11 ┆ … ┆ 731.94 ┆ 3        ┆ 0.0      ┆ 219.582 │\n",
       "│ 3      ┆ CA-2016-138688 ┆ 2016-06-12 ┆ 2016-06-16 ┆ … ┆ 14.62  ┆ 2        ┆ 0.0      ┆ 6.8714  │\n",
       "└────────┴────────────────┴────────────┴────────────┴───┴────────┴──────────┴──────────┴─────────┘"
      ]
     },
     "execution_count": 5,
     "metadata": {},
     "output_type": "execute_result"
    }
   ],
   "source": [
    "## Review the first three rows\n",
    "dup.show_data(rows = 3)"
   ]
  },
  {
   "cell_type": "code",
   "execution_count": 6,
   "id": "16f14272-9c1a-4fc1-a915-aad30a33c28b",
   "metadata": {},
   "outputs": [
    {
     "name": "stdout",
     "output_type": "stream",
     "text": [
      "The top 5 suggestions for a unique id include:\n",
      "\t1. row_id: 99.95% unique (9994 of 9999 unique)\n",
      "\t2. profit: 73.15% unique (7314 of 9999 unique)\n",
      "\t3. sales: 58.27% unique (5826 of 9999 unique)\n",
      "\t4. order_id: 50.10% unique (5009 of 9999 unique)\n",
      "\t5. product_id: 18.62% unique (1862 of 9999 unique)\n"
     ]
    }
   ],
   "source": [
    "## Get unique key value suggestions (5)\n",
    "dup.get_key_suggestion(n_suggestions = 5)"
   ]
  },
  {
   "cell_type": "code",
   "execution_count": 7,
   "id": "6d3f2df0-5384-40c7-b74e-20ffe61674f9",
   "metadata": {},
   "outputs": [],
   "source": [
    "## Looks like the row_id column is the most unique\n",
    "## Let's set it as the key and find where and why it is being duplicated\n",
    "dup.set_key('row_id')"
   ]
  },
  {
   "cell_type": "code",
   "execution_count": 8,
   "id": "cdf97435-d648-4ee1-8f23-ce4796b69e4a",
   "metadata": {},
   "outputs": [
    {
     "name": "stdout",
     "output_type": "stream",
     "text": [
      "Setting everything up\n",
      "Starting to process 9994 rows of data\n",
      "Duplicates discovered\n"
     ]
    }
   ],
   "source": [
    "## When we run find_dupe_cols() we go through each unique value in the key column\n",
    "## Per each unique value, we iterate through each column, remove duplicates and count the total rows remaining\n",
    "## Any filtered dataframe with more than one row indicates a duplicate and is captured\n",
    "dupes = dup.find_dupe_cols()"
   ]
  },
  {
   "cell_type": "code",
   "execution_count": 9,
   "id": "a979814b-6d8e-4708-b8fe-38e6ecf5430e",
   "metadata": {},
   "outputs": [
    {
     "data": {
      "text/html": [
       "<div><style>\n",
       ".dataframe > thead > tr,\n",
       ".dataframe > tbody > tr {\n",
       "  text-align: right;\n",
       "  white-space: pre-wrap;\n",
       "}\n",
       "</style>\n",
       "<small>shape: (5, 4)</small><table border=\"1\" class=\"dataframe\"><thead><tr><th>row_id_value</th><th>dupe_col</th><th>dupe_count</th><th>dupe_vals</th></tr><tr><td>i64</td><td>str</td><td>i64</td><td>list[str]</td></tr></thead><tbody><tr><td>9990</td><td>&quot;segment&quot;</td><td>2</td><td>[&quot;Consumer&quot;, &quot;Different Value Causes Dupe&quot;]</td></tr><tr><td>9991</td><td>&quot;country&quot;</td><td>2</td><td>[&quot;Different Value Causes Dupe&quot;, &quot;United States&quot;]</td></tr><tr><td>9992</td><td>&quot;city&quot;</td><td>2</td><td>[&quot;Different Value Causes Dupe&quot;, &quot;Costa Mesa&quot;]</td></tr><tr><td>9993</td><td>&quot;postal_code&quot;</td><td>2</td><td>[&quot;999999999&quot;, &quot;92627&quot;]</td></tr><tr><td>9994</td><td>&quot;sales&quot;</td><td>2</td><td>[&quot;243.16&quot;, &quot;999999999.0&quot;]</td></tr></tbody></table></div>"
      ],
      "text/plain": [
       "shape: (5, 4)\n",
       "┌──────────────┬─────────────┬────────────┬───────────────────────────────────┐\n",
       "│ row_id_value ┆ dupe_col    ┆ dupe_count ┆ dupe_vals                         │\n",
       "│ ---          ┆ ---         ┆ ---        ┆ ---                               │\n",
       "│ i64          ┆ str         ┆ i64        ┆ list[str]                         │\n",
       "╞══════════════╪═════════════╪════════════╪═══════════════════════════════════╡\n",
       "│ 9990         ┆ segment     ┆ 2          ┆ [\"Consumer\", \"Different Value Ca… │\n",
       "│ 9991         ┆ country     ┆ 2          ┆ [\"Different Value Causes Dupe\", … │\n",
       "│ 9992         ┆ city        ┆ 2          ┆ [\"Different Value Causes Dupe\", … │\n",
       "│ 9993         ┆ postal_code ┆ 2          ┆ [\"999999999\", \"92627\"]            │\n",
       "│ 9994         ┆ sales       ┆ 2          ┆ [\"243.16\", \"999999999.0\"]         │\n",
       "└──────────────┴─────────────┴────────────┴───────────────────────────────────┘"
      ]
     },
     "execution_count": 9,
     "metadata": {},
     "output_type": "execute_result"
    }
   ],
   "source": [
    "## Let's review the dupe_data to see which values of our key column are being duplicated and what column is responsible\n",
    "dup.dupe_data"
   ]
  },
  {
   "cell_type": "markdown",
   "id": "a5c71cc7-2764-44a9-87c9-605fdc7d5fe0",
   "metadata": {},
   "source": [
    "# Example with no duplicated values"
   ]
  },
  {
   "cell_type": "code",
   "execution_count": 10,
   "id": "b75b4db9-88a7-4b81-ab5d-0501eb995e10",
   "metadata": {},
   "outputs": [],
   "source": [
    "## df is the original or non-duplicated superstore data\n",
    "## Import data and format column names to be lower and use _ instead of space\n",
    "df = pl.read_csv('superstore.csv')\n",
    "\n",
    "new_cols = {}\n",
    "for c in df.columns:\n",
    "    new_cols[c] = c.lower().replace(' ', '_')\n",
    "\n",
    "df = df.rename(new_cols)"
   ]
  },
  {
   "cell_type": "code",
   "execution_count": 12,
   "id": "0ff96b8f-cdfb-42c2-b4db-509f2b675e11",
   "metadata": {},
   "outputs": [
    {
     "data": {
      "text/html": [
       "<div><style>\n",
       ".dataframe > thead > tr,\n",
       ".dataframe > tbody > tr {\n",
       "  text-align: right;\n",
       "  white-space: pre-wrap;\n",
       "}\n",
       "</style>\n",
       "<small>shape: (2, 21)</small><table border=\"1\" class=\"dataframe\"><thead><tr><th>row_id</th><th>order_id</th><th>order_date</th><th>ship_date</th><th>ship_mode</th><th>customer_id</th><th>customer_name</th><th>segment</th><th>country</th><th>city</th><th>state</th><th>postal_code</th><th>region</th><th>product_id</th><th>category</th><th>sub-category</th><th>product_name</th><th>sales</th><th>quantity</th><th>discount</th><th>profit</th></tr><tr><td>i64</td><td>str</td><td>str</td><td>str</td><td>str</td><td>str</td><td>str</td><td>str</td><td>str</td><td>str</td><td>str</td><td>i64</td><td>str</td><td>str</td><td>str</td><td>str</td><td>str</td><td>f64</td><td>i64</td><td>f64</td><td>f64</td></tr></thead><tbody><tr><td>1</td><td>&quot;CA-2016-152156…</td><td>&quot;2016-11-08&quot;</td><td>&quot;2016-11-11&quot;</td><td>&quot;Second Class&quot;</td><td>&quot;CG-12520&quot;</td><td>&quot;Claire Gute&quot;</td><td>&quot;Consumer&quot;</td><td>&quot;United States&quot;</td><td>&quot;Henderson&quot;</td><td>&quot;Kentucky&quot;</td><td>42420</td><td>&quot;South&quot;</td><td>&quot;FUR-BO-1000179…</td><td>&quot;Furniture&quot;</td><td>&quot;Bookcases&quot;</td><td>&quot;Bush Somerset …</td><td>261.96</td><td>2</td><td>0.0</td><td>41.9136</td></tr><tr><td>2</td><td>&quot;CA-2016-152156…</td><td>&quot;2016-11-08&quot;</td><td>&quot;2016-11-11&quot;</td><td>&quot;Second Class&quot;</td><td>&quot;CG-12520&quot;</td><td>&quot;Claire Gute&quot;</td><td>&quot;Consumer&quot;</td><td>&quot;United States&quot;</td><td>&quot;Henderson&quot;</td><td>&quot;Kentucky&quot;</td><td>42420</td><td>&quot;South&quot;</td><td>&quot;FUR-CH-1000045…</td><td>&quot;Furniture&quot;</td><td>&quot;Chairs&quot;</td><td>&quot;Hon Deluxe Fab…</td><td>731.94</td><td>3</td><td>0.0</td><td>219.582</td></tr></tbody></table></div>"
      ],
      "text/plain": [
       "shape: (2, 21)\n",
       "┌────────┬────────────────┬────────────┬────────────┬───┬────────┬──────────┬──────────┬─────────┐\n",
       "│ row_id ┆ order_id       ┆ order_date ┆ ship_date  ┆ … ┆ sales  ┆ quantity ┆ discount ┆ profit  │\n",
       "│ ---    ┆ ---            ┆ ---        ┆ ---        ┆   ┆ ---    ┆ ---      ┆ ---      ┆ ---     │\n",
       "│ i64    ┆ str            ┆ str        ┆ str        ┆   ┆ f64    ┆ i64      ┆ f64      ┆ f64     │\n",
       "╞════════╪════════════════╪════════════╪════════════╪═══╪════════╪══════════╪══════════╪═════════╡\n",
       "│ 1      ┆ CA-2016-152156 ┆ 2016-11-08 ┆ 2016-11-11 ┆ … ┆ 261.96 ┆ 2        ┆ 0.0      ┆ 41.9136 │\n",
       "│ 2      ┆ CA-2016-152156 ┆ 2016-11-08 ┆ 2016-11-11 ┆ … ┆ 731.94 ┆ 3        ┆ 0.0      ┆ 219.582 │\n",
       "└────────┴────────────────┴────────────┴────────────┴───┴────────┴──────────┴──────────┴─────────┘"
      ]
     },
     "execution_count": 12,
     "metadata": {},
     "output_type": "execute_result"
    }
   ],
   "source": [
    "df.head(2)"
   ]
  },
  {
   "cell_type": "code",
   "execution_count": 17,
   "id": "9169468d-b1ef-4dd8-8ed3-dbea0f3674a6",
   "metadata": {},
   "outputs": [
    {
     "name": "stdout",
     "output_type": "stream",
     "text": [
      "No key is currently assigned\n",
      "Your data includes 9994 rows and 21 columns\n"
     ]
    }
   ],
   "source": [
    "# df.head(2)\n",
    "## Create class object\n",
    "dup = Dupe(df)\n",
    "\n",
    "## Get info\n",
    "dup.get_info()"
   ]
  },
  {
   "cell_type": "code",
   "execution_count": 18,
   "id": "689fb686-2ef0-4c23-8059-6402550fa9f2",
   "metadata": {},
   "outputs": [
    {
     "data": {
      "text/html": [
       "<div><style>\n",
       ".dataframe > thead > tr,\n",
       ".dataframe > tbody > tr {\n",
       "  text-align: right;\n",
       "  white-space: pre-wrap;\n",
       "}\n",
       "</style>\n",
       "<small>shape: (3, 21)</small><table border=\"1\" class=\"dataframe\"><thead><tr><th>row_id</th><th>order_id</th><th>order_date</th><th>ship_date</th><th>ship_mode</th><th>customer_id</th><th>customer_name</th><th>segment</th><th>country</th><th>city</th><th>state</th><th>postal_code</th><th>region</th><th>product_id</th><th>category</th><th>sub-category</th><th>product_name</th><th>sales</th><th>quantity</th><th>discount</th><th>profit</th></tr><tr><td>i64</td><td>str</td><td>str</td><td>str</td><td>str</td><td>str</td><td>str</td><td>str</td><td>str</td><td>str</td><td>str</td><td>i64</td><td>str</td><td>str</td><td>str</td><td>str</td><td>str</td><td>f64</td><td>i64</td><td>f64</td><td>f64</td></tr></thead><tbody><tr><td>1</td><td>&quot;CA-2016-152156…</td><td>&quot;2016-11-08&quot;</td><td>&quot;2016-11-11&quot;</td><td>&quot;Second Class&quot;</td><td>&quot;CG-12520&quot;</td><td>&quot;Claire Gute&quot;</td><td>&quot;Consumer&quot;</td><td>&quot;United States&quot;</td><td>&quot;Henderson&quot;</td><td>&quot;Kentucky&quot;</td><td>42420</td><td>&quot;South&quot;</td><td>&quot;FUR-BO-1000179…</td><td>&quot;Furniture&quot;</td><td>&quot;Bookcases&quot;</td><td>&quot;Bush Somerset …</td><td>261.96</td><td>2</td><td>0.0</td><td>41.9136</td></tr><tr><td>2</td><td>&quot;CA-2016-152156…</td><td>&quot;2016-11-08&quot;</td><td>&quot;2016-11-11&quot;</td><td>&quot;Second Class&quot;</td><td>&quot;CG-12520&quot;</td><td>&quot;Claire Gute&quot;</td><td>&quot;Consumer&quot;</td><td>&quot;United States&quot;</td><td>&quot;Henderson&quot;</td><td>&quot;Kentucky&quot;</td><td>42420</td><td>&quot;South&quot;</td><td>&quot;FUR-CH-1000045…</td><td>&quot;Furniture&quot;</td><td>&quot;Chairs&quot;</td><td>&quot;Hon Deluxe Fab…</td><td>731.94</td><td>3</td><td>0.0</td><td>219.582</td></tr><tr><td>3</td><td>&quot;CA-2016-138688…</td><td>&quot;2016-06-12&quot;</td><td>&quot;2016-06-16&quot;</td><td>&quot;Second Class&quot;</td><td>&quot;DV-13045&quot;</td><td>&quot;Darrin Van Huf…</td><td>&quot;Corporate&quot;</td><td>&quot;United States&quot;</td><td>&quot;Los Angeles&quot;</td><td>&quot;California&quot;</td><td>90036</td><td>&quot;West&quot;</td><td>&quot;OFF-LA-1000024…</td><td>&quot;Office Supplie…</td><td>&quot;Labels&quot;</td><td>&quot;Self-Adhesive …</td><td>14.62</td><td>2</td><td>0.0</td><td>6.8714</td></tr></tbody></table></div>"
      ],
      "text/plain": [
       "shape: (3, 21)\n",
       "┌────────┬────────────────┬────────────┬────────────┬───┬────────┬──────────┬──────────┬─────────┐\n",
       "│ row_id ┆ order_id       ┆ order_date ┆ ship_date  ┆ … ┆ sales  ┆ quantity ┆ discount ┆ profit  │\n",
       "│ ---    ┆ ---            ┆ ---        ┆ ---        ┆   ┆ ---    ┆ ---      ┆ ---      ┆ ---     │\n",
       "│ i64    ┆ str            ┆ str        ┆ str        ┆   ┆ f64    ┆ i64      ┆ f64      ┆ f64     │\n",
       "╞════════╪════════════════╪════════════╪════════════╪═══╪════════╪══════════╪══════════╪═════════╡\n",
       "│ 1      ┆ CA-2016-152156 ┆ 2016-11-08 ┆ 2016-11-11 ┆ … ┆ 261.96 ┆ 2        ┆ 0.0      ┆ 41.9136 │\n",
       "│ 2      ┆ CA-2016-152156 ┆ 2016-11-08 ┆ 2016-11-11 ┆ … ┆ 731.94 ┆ 3        ┆ 0.0      ┆ 219.582 │\n",
       "│ 3      ┆ CA-2016-138688 ┆ 2016-06-12 ┆ 2016-06-16 ┆ … ┆ 14.62  ┆ 2        ┆ 0.0      ┆ 6.8714  │\n",
       "└────────┴────────────────┴────────────┴────────────┴───┴────────┴──────────┴──────────┴─────────┘"
      ]
     },
     "execution_count": 18,
     "metadata": {},
     "output_type": "execute_result"
    }
   ],
   "source": [
    "## Review the first three rows\n",
    "dup.show_data(rows = 3)"
   ]
  },
  {
   "cell_type": "code",
   "execution_count": 19,
   "id": "7ae63616-3e42-47ac-86ac-ed1c389b5edf",
   "metadata": {},
   "outputs": [
    {
     "name": "stdout",
     "output_type": "stream",
     "text": [
      "Your data includes one unique id\n",
      "\t1. row_id: 100.00% unique (9994 of 9994 unique)\n"
     ]
    }
   ],
   "source": [
    "## Get unique key value suggestions (5)\n",
    "## In this case, the n_suggestions is ignored because there IS a unique id (row_id)\n",
    "dup.get_key_suggestion(n_suggestions = 5)"
   ]
  },
  {
   "cell_type": "code",
   "execution_count": 20,
   "id": "7647d9d8-e8a2-4251-a8e6-24f6e7c1012d",
   "metadata": {},
   "outputs": [],
   "source": [
    "## Looks like the row_id column is the most unique\n",
    "## Let's set it as the key and find where and why it is being duplicated\n",
    "dup.set_key('row_id')"
   ]
  },
  {
   "cell_type": "code",
   "execution_count": 21,
   "id": "8f554d02-bd5d-44b2-8650-74cf3c280d2e",
   "metadata": {},
   "outputs": [
    {
     "name": "stdout",
     "output_type": "stream",
     "text": [
      "Setting everything up\n",
      "Starting to process 9994 rows of data\n",
      "Duplicates discovered\n"
     ]
    }
   ],
   "source": [
    "## When we run find_dupe_cols() we go through each unique value in the key column\n",
    "## Per each unique value, we iterate through each column, remove duplicates and count the total rows remaining\n",
    "## Any filtered dataframe with more than one row indicates a duplicate and is captured\n",
    "dupes = dup.find_dupe_cols()"
   ]
  },
  {
   "cell_type": "code",
   "execution_count": 22,
   "id": "a3b56f7a-14e5-4746-8db3-ff466d06ee4f",
   "metadata": {},
   "outputs": [
    {
     "data": {
      "text/html": [
       "<div><style>\n",
       ".dataframe > thead > tr,\n",
       ".dataframe > tbody > tr {\n",
       "  text-align: right;\n",
       "  white-space: pre-wrap;\n",
       "}\n",
       "</style>\n",
       "<small>shape: (0, 4)</small><table border=\"1\" class=\"dataframe\"><thead><tr><th>row_id_value</th><th>dupe_col</th><th>dupe_count</th><th>dupe_vals</th></tr><tr><td>null</td><td>null</td><td>null</td><td>null</td></tr></thead><tbody></tbody></table></div>"
      ],
      "text/plain": [
       "shape: (0, 4)\n",
       "┌──────────────┬──────────┬────────────┬───────────┐\n",
       "│ row_id_value ┆ dupe_col ┆ dupe_count ┆ dupe_vals │\n",
       "│ ---          ┆ ---      ┆ ---        ┆ ---       │\n",
       "│ null         ┆ null     ┆ null       ┆ null      │\n",
       "╞══════════════╪══════════╪════════════╪═══════════╡\n",
       "└──────────────┴──────────┴────────────┴───────────┘"
      ]
     },
     "execution_count": 22,
     "metadata": {},
     "output_type": "execute_result"
    }
   ],
   "source": [
    "## Let's review the dupe_data to see which values of our key column are being duplicated and what column is responsible\n",
    "## Empty dataframe means no duplicates!  Rejoice!!\n",
    "dup.dupe_data"
   ]
  },
  {
   "cell_type": "code",
   "execution_count": null,
   "id": "0c56fbd9-9c34-47cb-aa44-0b2b12b6c40e",
   "metadata": {},
   "outputs": [],
   "source": []
  }
 ],
 "metadata": {
  "kernelspec": {
   "display_name": "Python 3 (ipykernel)",
   "language": "python",
   "name": "python3"
  },
  "language_info": {
   "codemirror_mode": {
    "name": "ipython",
    "version": 3
   },
   "file_extension": ".py",
   "mimetype": "text/x-python",
   "name": "python",
   "nbconvert_exporter": "python",
   "pygments_lexer": "ipython3",
   "version": "3.11.7"
  }
 },
 "nbformat": 4,
 "nbformat_minor": 5
}
